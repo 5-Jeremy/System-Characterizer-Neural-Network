{
 "cells": [
  {
   "cell_type": "code",
   "execution_count": 1,
   "id": "cb35176e",
   "metadata": {},
   "outputs": [],
   "source": [
    "import pandas as pd\n",
    "import tensorflow as tf\n",
    "from tensorflow import keras\n",
    "import numpy as np\n",
    "import sklearn as skl\n",
    "from sklearn import preprocessing\n",
    "from sklearn import model_selection\n",
    "import matplotlib.pyplot as plt\n",
    "from pickle import dump, load\n",
    "\n",
    "from training_functions import summarize_data, get_encoded_labels_overshoot_undershoot_classification"
   ]
  },
  {
   "cell_type": "code",
   "execution_count": 2,
   "id": "e9b2aa9c",
   "metadata": {},
   "outputs": [
    {
     "name": "stdout",
     "output_type": "stream",
     "text": [
      "         N1         D2         D1  RiseTime  TransientTime  SettlingTime  \\\n",
      "0 -2.098997   9.355879  12.169613  1.418254       2.808480      3.004993   \n",
      "1 -8.064675   7.424314  10.984939  1.178159       2.236274      2.261321   \n",
      "2  3.355627  10.362653  17.972740  0.690566       1.434136      1.434136   \n",
      "3 -5.016306   6.777631  10.215730  1.109049       2.153838      2.198836   \n",
      "4 -6.944586   7.414111  13.427289  0.904405       1.722170      1.748116   \n",
      "\n",
      "   SettlingMin  SettlingMax  Overshoot  Undershoot      Peak  PeakTime  \n",
      "0    -0.172400    -0.155525        0.0   35.908827  0.172400  5.423694  \n",
      "1    -0.733804    -0.660804        0.0    5.243774  0.733804  4.088517  \n",
      "2     0.168055     0.186666        0.0   -0.000000  0.186666  3.487674  \n",
      "3    -0.490662    -0.442658        0.0   10.675850  0.490662  3.643252  \n",
      "4    -0.516743    -0.465671        0.0    8.085863  0.516743  2.766764  \n",
      "Models with overshoot: 3334/33.339999999999996%\n",
      "Models with undershoot: 3334/33.339999999999996%\n",
      "Models with neither: 3332/33.32%\n"
     ]
    }
   ],
   "source": [
    "# Load data\n",
    "dataset = pd.read_csv(\"../Datasets/Three Coefficient 2nd Order/Three Coefficient System Data Balanced.csv\")\n",
    "print(dataset.head())\n",
    "summarize_data(dataset)"
   ]
  },
  {
   "cell_type": "code",
   "execution_count": 3,
   "id": "86d886b1",
   "metadata": {
    "scrolled": true
   },
   "outputs": [
    {
     "name": "stdout",
     "output_type": "stream",
     "text": [
      "[[0. 0. 1.]\n",
      " [0. 0. 1.]\n",
      " [1. 0. 0.]\n",
      " [0. 0. 1.]\n",
      " [0. 0. 1.]\n",
      " [0. 0. 1.]\n",
      " [1. 0. 0.]\n",
      " [0. 0. 1.]\n",
      " [1. 0. 0.]\n",
      " [0. 0. 1.]]\n"
     ]
    }
   ],
   "source": [
    "# Determine the appropriate label for each entry using one-hot encoding\n",
    "# [0 0 1] for undershoot, [0 1 0] for overshoot, [1 0 0] for neither\n",
    "labels = get_encoded_labels_overshoot_undershoot_classification(dataset)\n",
    "print(labels[0:10])"
   ]
  },
  {
   "cell_type": "code",
   "execution_count": 4,
   "id": "4b6e7227",
   "metadata": {},
   "outputs": [
    {
     "name": "stdout",
     "output_type": "stream",
     "text": [
      "[[-5.95626000e-01 -2.68288939e-01 -6.77002867e-01]\n",
      " [-1.72480106e+00 -7.39706047e-01 -7.29012032e-01]\n",
      " [ 4.36817712e-01 -2.25757537e-02 -4.22235882e-01]\n",
      " [-1.14781006e+00 -8.97535451e-01 -7.62781617e-01]\n",
      " [-1.51279213e+00 -7.42196203e-01 -6.21788768e-01]\n",
      " [-1.93462792e+00 -3.10796381e-01 -2.86181310e-01]\n",
      " [ 1.67465429e+00  1.20770173e-01 -3.81615496e-01]\n",
      " [-2.15755976e-01  5.40873743e-01  2.19079969e-01]\n",
      " [ 1.57360915e+00 -1.22635319e+00 -1.03992242e+00]\n",
      " [-6.33407146e-01  2.43423483e-01  1.15969363e-03]]\n",
      "(10000, 3)\n"
     ]
    }
   ],
   "source": [
    "# Convert to numpy array\n",
    "data_array = dataset.to_numpy()\n",
    "\n",
    "# Separate the coefficients, which form the inputs to the neural network, from the rest of the data\n",
    "# The coefficients are the first columns in the CSV file\n",
    "coefficients = data_array[:,0:3]\n",
    "# Use StandardScaler to remove the mean and scale to unit variance\n",
    "scaler = preprocessing.StandardScaler().fit(coefficients)\n",
    "scaled_coefficients = scaler.transform(coefficients)\n",
    "\n",
    "print(scaled_coefficients[0:10,:])\n",
    "print(scaled_coefficients.shape)"
   ]
  },
  {
   "cell_type": "code",
   "execution_count": 5,
   "id": "cd7884db",
   "metadata": {},
   "outputs": [
    {
     "name": "stdout",
     "output_type": "stream",
     "text": [
      "(9000, 3) (9000, 3) (1000, 3) (1000, 3)\n"
     ]
    }
   ],
   "source": [
    "# Reserve 10% of the data as test data, and use the rest as training data\n",
    "train_inputs,test_inputs,train_labels,test_labels = model_selection.train_test_split(scaled_coefficients, labels, test_size=0.10)\n",
    "print(train_inputs.shape, train_labels.shape,test_inputs.shape, test_labels.shape)"
   ]
  },
  {
   "cell_type": "code",
   "execution_count": 6,
   "id": "2698cd39",
   "metadata": {},
   "outputs": [
    {
     "name": "stdout",
     "output_type": "stream",
     "text": [
      "Model: \"sequential\"\n",
      "_________________________________________________________________\n",
      " Layer (type)                Output Shape              Param #   \n",
      "=================================================================\n",
      " layer_1 (Dense)             (None, 128)               512       \n",
      "                                                                 \n",
      " layer_2 (Dense)             (None, 128)               16512     \n",
      "                                                                 \n",
      " output_layer (Dense)        (None, 3)                 387       \n",
      "                                                                 \n",
      "=================================================================\n",
      "Total params: 17,411\n",
      "Trainable params: 17,411\n",
      "Non-trainable params: 0\n",
      "_________________________________________________________________\n"
     ]
    }
   ],
   "source": [
    "# Use a sequential model for classification\n",
    "model = tf.keras.models.Sequential()\n",
    "# First hidden layer: 128 nodes, RELU activation function\n",
    "model.add(keras.layers.Dense(128,\n",
    "                             input_shape=(3,),\n",
    "                              name='layer_1',\n",
    "                              activation='relu'))\n",
    "# Second hidden layer: 128 nodes, RELU activation function\n",
    "model.add(keras.layers.Dense(128,\n",
    "                              name='layer_2',\n",
    "                              activation='relu'))\n",
    "# Output layer: softmax activation function\n",
    "model.add(keras.layers.Dense(3,\n",
    "                             name='output_layer',\n",
    "                             activation='softmax'))\n",
    "\n",
    "model.compile(loss='categorical_crossentropy',\n",
    "              metrics=['accuracy'])\n",
    "model.summary()"
   ]
  },
  {
   "cell_type": "code",
   "execution_count": 7,
   "id": "0777cc7e",
   "metadata": {},
   "outputs": [
    {
     "name": "stdout",
     "output_type": "stream",
     "text": [
      "Epoch 1/10\n",
      "450/450 [==============================] - 1s 1ms/step - loss: 0.2622 - accuracy: 0.9140 - val_loss: 0.1562 - val_accuracy: 0.9389\n",
      "Epoch 2/10\n",
      "450/450 [==============================] - 0s 1ms/step - loss: 0.1214 - accuracy: 0.9560 - val_loss: 0.1125 - val_accuracy: 0.9561\n",
      "Epoch 3/10\n",
      "450/450 [==============================] - 1s 1ms/step - loss: 0.1005 - accuracy: 0.9582 - val_loss: 0.0942 - val_accuracy: 0.9606\n",
      "Epoch 4/10\n",
      "450/450 [==============================] - 0s 940us/step - loss: 0.0892 - accuracy: 0.9646 - val_loss: 0.0766 - val_accuracy: 0.9683\n",
      "Epoch 5/10\n",
      "450/450 [==============================] - 0s 1ms/step - loss: 0.0850 - accuracy: 0.9656 - val_loss: 0.0786 - val_accuracy: 0.9689\n",
      "Epoch 6/10\n",
      "450/450 [==============================] - 0s 1ms/step - loss: 0.0801 - accuracy: 0.9694 - val_loss: 0.0897 - val_accuracy: 0.9644\n",
      "Epoch 7/10\n",
      "450/450 [==============================] - 0s 925us/step - loss: 0.0784 - accuracy: 0.9679 - val_loss: 0.0649 - val_accuracy: 0.9689\n",
      "Epoch 8/10\n",
      "450/450 [==============================] - 0s 909us/step - loss: 0.0712 - accuracy: 0.9722 - val_loss: 0.0644 - val_accuracy: 0.9706\n",
      "Epoch 9/10\n",
      "450/450 [==============================] - 0s 962us/step - loss: 0.0686 - accuracy: 0.9712 - val_loss: 0.0611 - val_accuracy: 0.9711\n",
      "Epoch 10/10\n",
      "450/450 [==============================] - 0s 920us/step - loss: 0.0688 - accuracy: 0.9708 - val_loss: 0.0808 - val_accuracy: 0.9678\n"
     ]
    },
    {
     "data": {
      "image/png": "[encoded data removed]",
      "text/plain": [
       "<Figure size 800x500 with 1 Axes>"
      ]
     },
     "metadata": {},
     "output_type": "display_data"
    },
    {
     "name": "stdout",
     "output_type": "stream",
     "text": [
      "\n",
      "Evaluation against Test Dataset :\n",
      "------------------------------------\n",
      "32/32 [==============================] - 0s 684us/step - loss: 0.0885 - accuracy: 0.9610\n"
     ]
    },
    {
     "data": {
      "text/plain": [
       "[0.08846834301948547, 0.9610000252723694]"
      ]
     },
     "execution_count": 7,
     "metadata": {},
     "output_type": "execute_result"
    }
   ],
   "source": [
    "# Perform training\n",
    "\n",
    "history=model.fit(train_inputs,\n",
    "          train_labels,\n",
    "          batch_size = 16,\n",
    "          epochs = 10,\n",
    "          verbose = 1,\n",
    "          validation_split = 0.2)\n",
    "\n",
    "# Code borrowed from Kumaran Ponnambalam's LinkedIn Learning course\n",
    "# Check the accuracy after each epoch\n",
    "pd.DataFrame(history.history)[\"accuracy\"].plot(figsize=(8, 5))\n",
    "plt.title(\"Accuracy improvements with Epoch\")\n",
    "plt.show()\n",
    "\n",
    "#Evaluate the model against the test dataset and print results\n",
    "print(\"\\nEvaluation against Test Dataset :\\n------------------------------------\")\n",
    "model.evaluate(test_inputs, test_labels)"
   ]
  },
  {
   "cell_type": "code",
   "execution_count": 8,
   "id": "372a05cb",
   "metadata": {},
   "outputs": [
    {
     "name": "stderr",
     "output_type": "stream",
     "text": [
      "WARNING:absl:Found untraced functions such as _update_step_xla while saving (showing 1 of 1). These functions will not be directly callable after loading.\n"
     ]
    },
    {
     "name": "stdout",
     "output_type": "stream",
     "text": [
      "INFO:tensorflow:Assets written to: OUID_3C_Basic/OUID_3C_Basic\\assets\n"
     ]
    },
    {
     "name": "stderr",
     "output_type": "stream",
     "text": [
      "INFO:tensorflow:Assets written to: OUID_3C_Basic/OUID_3C_Basic\\assets\n"
     ]
    }
   ],
   "source": [
    "# Export the model and the scaler used with the data\n",
    "# Both will be stored in a directory matching the model name\n",
    "model.save(\"OUID_3C_Basic/OUID_3C_Basic\")\n",
    "dump(scaler, open('OUID_3C_Basic/scaler.pkl','wb'))"
   ]
  },
  {
   "cell_type": "code",
   "execution_count": 7,
   "id": "34ebf665",
   "metadata": {},
   "outputs": [
    {
     "name": "stdout",
     "output_type": "stream",
     "text": [
      "313/313 [==============================] - 0s 660us/step\n",
      "[2 2 1 ... 2 2 2]\n",
      "[2 2 1 ... 2 2 2]\n"
     ]
    }
   ],
   "source": [
    "# For testing existing models on new data\n",
    "model = keras.models.load_model(\"OUID_3C_Optimized/OUID_3C_Optimized\")\n",
    "scaler = load(open('OUID_3C_Optimized/scaler.pkl','rb'))\n",
    "dataset = pd.read_csv(\"../Datasets/Three Coefficient 2nd Order/Three Coefficient System Data 2.csv\")\n",
    "labels = get_encoded_labels_overshoot_undershoot_classification(dataset)\n",
    "data_array = dataset.to_numpy()\n",
    "scaled_input = scaler.transform(data_array[:,0:3])\n",
    "raw_predictions = model.predict(scaled_input)\n",
    "#print(\"Raw Prediction Output (Probabilities) :\\n\" , raw_predictions[0:10])\n",
    "predictions = np.argmax(raw_predictions,1)\n",
    "print(predictions)\n",
    "actual = np.argmax(labels,1)\n",
    "print(actual)"
   ]
  },
  {
   "cell_type": "code",
   "execution_count": 8,
   "id": "98467413",
   "metadata": {},
   "outputs": [
    {
     "name": "stdout",
     "output_type": "stream",
     "text": [
      "Number of classification errors: 241\n",
      "Accuracy: 0.9759\n",
      "[[3432.   11.  128.]\n",
      " [  41. 1470.   12.]\n",
      " [   0.   49. 4857.]]\n"
     ]
    }
   ],
   "source": [
    "# Analysis of the performance of the model\n",
    "incorrect_indices = (predictions - actual).nonzero()\n",
    "num_incorrect = incorrect_indices[0].shape[0]\n",
    "print(\"Number of classification errors: \" + str(num_incorrect))\n",
    "print(\"Accuracy: \" + str((dataset.shape[0] - num_incorrect)/dataset.shape[0]))\n",
    "# Generate confusion matrix; rows correspond to actual label and columns correspond to predicted label\n",
    "confusion_matrix = np.zeros((3,3))\n",
    "for i in range(dataset.shape[0]):\n",
    "    if actual[i] == 0 and predictions[i] == 0:\n",
    "        confusion_matrix[0,0] = confusion_matrix[0,0] + 1\n",
    "    elif actual[i] == 1 and predictions[i] == 0:\n",
    "        confusion_matrix[1,0] = confusion_matrix[1,0] + 1\n",
    "    elif actual[i] == 2 and predictions[i] == 0:\n",
    "        confusion_matrix[2,0] = confusion_matrix[2,0] + 1\n",
    "    elif actual[i] == 0 and predictions[i] == 1:\n",
    "        confusion_matrix[0,1] = confusion_matrix[0,1] + 1\n",
    "    elif actual[i] == 1 and predictions[i] == 1:\n",
    "        confusion_matrix[1,1] = confusion_matrix[1,1] + 1\n",
    "    elif actual[i] == 2 and predictions[i] == 1:\n",
    "        confusion_matrix[2,1] = confusion_matrix[2,1] + 1\n",
    "    elif actual[i] == 0 and predictions[i] == 2:\n",
    "        confusion_matrix[0,2] = confusion_matrix[0,2] + 1\n",
    "    elif actual[i] == 1 and predictions[i] == 2:\n",
    "        confusion_matrix[1,2] = confusion_matrix[1,2] + 1\n",
    "    elif actual[i] == 2 and predictions[i] == 2:\n",
    "        confusion_matrix[2,2] = confusion_matrix[2,2] + 1\n",
    "print(confusion_matrix)"
   ]
  },
  {
   "attachments": {},
   "cell_type": "markdown",
   "id": "c91047aa",
   "metadata": {},
   "source": [
    "Optimizing the hyperparameters\n",
    "Run at least cells 1 through 5 before running these"
   ]
  },
  {
   "cell_type": "code",
   "execution_count": 6,
   "id": "5560ce7a",
   "metadata": {},
   "outputs": [],
   "source": [
    "# Compare different options for number of hidden layers and nodes per layer (keeping the nodes per layer uniform)\n",
    "num_layer_options = [2, 3, 4]\n",
    "nodes_per_layer_options = [64, 128, 256]\n",
    "indx_1 = indx_2 = 0\n",
    "model_histories = []\n",
    "accuracy_measures = [[0 for j in range(len(num_layer_options))] for i in range(len(nodes_per_layer_options))]\n",
    "models = [[0 for j in range(len(num_layer_options))] for i in range(len(nodes_per_layer_options))]\n",
    "for nlo in num_layer_options:\n",
    "    model_histories.append([])\n",
    "    for nplo in nodes_per_layer_options:\n",
    "        \n",
    "        model = tf.keras.models.Sequential()\n",
    "        model.add(keras.layers.Dense(nplo,\n",
    "                                        input_shape=(3,),\n",
    "                                        name='1',\n",
    "                                        activation='relu'))\n",
    "        for i in range(nlo-1):\n",
    "            model.add(keras.layers.Dense(nplo,\n",
    "                                        name=str(i+2),\n",
    "                                        activation='relu'))\n",
    "        model.add(keras.layers.Dense(3,\n",
    "                                    name='output_layer',\n",
    "                                    activation='softmax'))\n",
    "\n",
    "        model.compile(loss='categorical_crossentropy',\n",
    "                    metrics=['accuracy'])\n",
    "        accuracy_measures[indx_1][indx_2] = model.fit(train_inputs,train_labels,batch_size = 16,epochs = 10,verbose = 0,validation_split = 0.2).history[\"accuracy\"]\n",
    "        models[indx_1][indx_2] = model\n",
    "        indx_2 = indx_2 + 1\n",
    "    indx_1 = indx_1 + 1\n",
    "    indx_2 = 0\n"
   ]
  },
  {
   "cell_type": "code",
   "execution_count": 7,
   "id": "bdd5b83f",
   "metadata": {},
   "outputs": [
    {
     "name": "stdout",
     "output_type": "stream",
     "text": [
      "\n",
      "Evaluation against Test Dataset :\n",
      "------------------------------------\n",
      "3125/3125 [==============================] - 2s 757us/step - loss: 0.0674 - accuracy: 0.9717\n",
      "\n",
      "Evaluation against Test Dataset :\n",
      "------------------------------------\n",
      "3125/3125 [==============================] - 2s 759us/step - loss: 0.0686 - accuracy: 0.9699\n",
      "\n",
      "Evaluation against Test Dataset :\n",
      "------------------------------------\n",
      "3125/3125 [==============================] - 3s 837us/step - loss: 0.1239 - accuracy: 0.9589\n",
      "\n",
      "Evaluation against Test Dataset :\n",
      "------------------------------------\n",
      "3125/3125 [==============================] - 2s 749us/step - loss: 0.0753 - accuracy: 0.9662\n",
      "\n",
      "Evaluation against Test Dataset :\n",
      "------------------------------------\n",
      "3125/3125 [==============================] - 2s 756us/step - loss: 0.0711 - accuracy: 0.9714\n",
      "\n",
      "Evaluation against Test Dataset :\n",
      "------------------------------------\n",
      "3125/3125 [==============================] - 3s 901us/step - loss: 0.1356 - accuracy: 0.9529\n",
      "\n",
      "Evaluation against Test Dataset :\n",
      "------------------------------------\n",
      "3125/3125 [==============================] - 2s 765us/step - loss: 0.0774 - accuracy: 0.9720\n",
      "\n",
      "Evaluation against Test Dataset :\n",
      "------------------------------------\n",
      "3125/3125 [==============================] - 2s 790us/step - loss: 0.0735 - accuracy: 0.9699\n",
      "\n",
      "Evaluation against Test Dataset :\n",
      "------------------------------------\n",
      "3125/3125 [==============================] - 3s 969us/step - loss: 0.0748 - accuracy: 0.9728\n"
     ]
    },
    {
     "data": {
      "text/plain": [
       "<Figure size 1500x800 with 0 Axes>"
      ]
     },
     "metadata": {},
     "output_type": "display_data"
    }
   ],
   "source": [
    "# Load a separate dataset for testing\n",
    "test_dataset = pd.read_csv(\"../Datasets/Three Coefficient 2nd Order/Three Coefficient System Data Balanced 2.csv\")\n",
    "labels = get_encoded_labels_overshoot_undershoot_classification(test_dataset)\n",
    "data_array = test_dataset.to_numpy()\n",
    "scaled_input = scaler.transform(data_array[:,0:3])\n",
    "\n",
    "plt.figure(figsize=(15, 8))\n",
    "for i in range(len(num_layer_options)):\n",
    "    for j in range(len(nodes_per_layer_options)):\n",
    "        #plt.plot(accuracy_measures[i][j], label = str(num_layer_options[i]) + \"/\" + str(nodes_per_layer_options[j]))\n",
    "\n",
    "        #Evaluate the model against the test dataset and print results\n",
    "        print(\"\\nEvaluation against Test Dataset :\\n------------------------------------\")\n",
    "        models[i][j].evaluate(scaled_input, labels)\n",
    "\n",
    "# plt.title(\"Comparison of Validation Accuracy\")\n",
    "# plt.xlabel(\"Epochs\")\n",
    "# plt.ylabel(\"Accuracy\")\n",
    "# plt.legend()\n",
    "# plt.show()"
   ]
  },
  {
   "attachments": {},
   "cell_type": "markdown",
   "id": "1fe31683",
   "metadata": {},
   "source": [
    "The best performance in terms of accuracy came from using 4 layers and 128 nodes per layer in my testing; note that the performance will vary"
   ]
  },
  {
   "cell_type": "code",
   "execution_count": 6,
   "id": "ed3e2ae2",
   "metadata": {},
   "outputs": [
    {
     "name": "stdout",
     "output_type": "stream",
     "text": [
      "Model: \"sequential\"\n",
      "_________________________________________________________________\n",
      " Layer (type)                Output Shape              Param #   \n",
      "=================================================================\n",
      " layer_1 (Dense)             (None, 128)               512       \n",
      "                                                                 \n",
      " layer_2 (Dense)             (None, 128)               16512     \n",
      "                                                                 \n",
      " layer_3 (Dense)             (None, 128)               16512     \n",
      "                                                                 \n",
      " layer_4 (Dense)             (None, 128)               16512     \n",
      "                                                                 \n",
      " output_layer (Dense)        (None, 3)                 387       \n",
      "                                                                 \n",
      "=================================================================\n",
      "Total params: 50,435\n",
      "Trainable params: 50,435\n",
      "Non-trainable params: 0\n",
      "_________________________________________________________________\n",
      "Epoch 1/10\n",
      "450/450 [==============================] - 1s 2ms/step - loss: 0.2293 - accuracy: 0.9203 - val_loss: 0.1502 - val_accuracy: 0.9472\n",
      "Epoch 2/10\n",
      "450/450 [==============================] - 1s 1ms/step - loss: 0.1287 - accuracy: 0.9547 - val_loss: 0.0958 - val_accuracy: 0.9644\n",
      "Epoch 3/10\n",
      "450/450 [==============================] - 0s 1ms/step - loss: 0.1117 - accuracy: 0.9603 - val_loss: 0.1500 - val_accuracy: 0.9556\n",
      "Epoch 4/10\n",
      "450/450 [==============================] - 0s 1ms/step - loss: 0.0998 - accuracy: 0.9624 - val_loss: 0.0865 - val_accuracy: 0.9700\n",
      "Epoch 5/10\n",
      "450/450 [==============================] - 0s 1ms/step - loss: 0.0953 - accuracy: 0.9635 - val_loss: 0.1189 - val_accuracy: 0.9600\n",
      "Epoch 6/10\n",
      "450/450 [==============================] - 0s 1ms/step - loss: 0.0906 - accuracy: 0.9661 - val_loss: 0.0828 - val_accuracy: 0.9644\n",
      "Epoch 7/10\n",
      "450/450 [==============================] - 0s 1ms/step - loss: 0.0828 - accuracy: 0.9682 - val_loss: 0.0564 - val_accuracy: 0.9778\n",
      "Epoch 8/10\n",
      "450/450 [==============================] - 0s 1ms/step - loss: 0.0820 - accuracy: 0.9674 - val_loss: 0.0656 - val_accuracy: 0.9733\n",
      "Epoch 9/10\n",
      "450/450 [==============================] - 0s 1ms/step - loss: 0.0829 - accuracy: 0.9701 - val_loss: 0.0662 - val_accuracy: 0.9733\n",
      "Epoch 10/10\n",
      "450/450 [==============================] - 0s 1ms/step - loss: 0.0773 - accuracy: 0.9711 - val_loss: 0.0649 - val_accuracy: 0.9739\n"
     ]
    },
    {
     "data": {
      "image/png": "[encoded data removed]",
      "text/plain": [
       "<Figure size 800x500 with 1 Axes>"
      ]
     },
     "metadata": {},
     "output_type": "display_data"
    },
    {
     "name": "stdout",
     "output_type": "stream",
     "text": [
      "\n",
      "Evaluation against Test Dataset :\n",
      "------------------------------------\n",
      "32/32 [==============================] - 0s 959us/step - loss: 0.0738 - accuracy: 0.9720\n"
     ]
    },
    {
     "name": "stderr",
     "output_type": "stream",
     "text": [
      "WARNING:absl:Found untraced functions such as _update_step_xla while saving (showing 1 of 1). These functions will not be directly callable after loading.\n"
     ]
    },
    {
     "name": "stdout",
     "output_type": "stream",
     "text": [
      "INFO:tensorflow:Assets written to: OUID_3C_Optimized/OUID_3C_Optimized\\assets\n"
     ]
    },
    {
     "name": "stderr",
     "output_type": "stream",
     "text": [
      "INFO:tensorflow:Assets written to: OUID_3C_Optimized/OUID_3C_Optimized\\assets\n"
     ]
    }
   ],
   "source": [
    "# Use a sequential model for classification\n",
    "model = tf.keras.models.Sequential()\n",
    "# First hidden layer: 128 nodes, RELU activation function\n",
    "model.add(keras.layers.Dense(128,\n",
    "                             input_shape=(3,),\n",
    "                              name='layer_1',\n",
    "                              activation='relu'))\n",
    "# Second hidden layer: 128 nodes, RELU activation function\n",
    "model.add(keras.layers.Dense(128,\n",
    "                              name='layer_2',\n",
    "                              activation='relu'))\n",
    "model.add(keras.layers.Dense(128,\n",
    "                              name='layer_3',\n",
    "                              activation='relu'))\n",
    "model.add(keras.layers.Dense(128,\n",
    "                              name='layer_4',\n",
    "                              activation='relu'))\n",
    "# Output layer: softmax activation function\n",
    "model.add(keras.layers.Dense(3,\n",
    "                             name='output_layer',\n",
    "                             activation='softmax'))\n",
    "\n",
    "model.compile(loss='categorical_crossentropy',\n",
    "              metrics=['accuracy'])\n",
    "model.summary()\n",
    "# Perform training\n",
    "\n",
    "history=model.fit(train_inputs,\n",
    "          train_labels,\n",
    "          batch_size = 16,\n",
    "          epochs = 10,\n",
    "          verbose = 1,\n",
    "          validation_split = 0.2)\n",
    "\n",
    "# Code borrowed from Kumaran Ponnambalam's LinkedIn Learning course\n",
    "# Check the accuracy after each epoch\n",
    "pd.DataFrame(history.history)[\"accuracy\"].plot(figsize=(8, 5))\n",
    "plt.title(\"Accuracy improvements with Epoch\")\n",
    "plt.show()\n",
    "\n",
    "#Evaluate the model against the test dataset and print results\n",
    "print(\"\\nEvaluation against Test Dataset :\\n------------------------------------\")\n",
    "model.evaluate(test_inputs, test_labels)\n",
    "model.save(\"OUID_3C_Optimized/OUID_3C_Optimized\")\n",
    "dump(scaler, open('OUID_3C_Optimized/scaler.pkl','wb'))"
   ]
  }
 ],
 "metadata": {
  "kernelspec": {
   "display_name": "deeplearning",
   "language": "python",
   "name": "python3"
  },
  "language_info": {
   "codemirror_mode": {
    "name": "ipython",
    "version": 3
   },
   "file_extension": ".py",
   "mimetype": "text/x-python",
   "name": "python",
   "nbconvert_exporter": "python",
   "pygments_lexer": "ipython3",
   "version": "3.8.15"
  },
  "vscode": {
   "interpreter": {
    "hash": "a64d606a253e2d1816fece95c0230ff125080c831115324729bcd0cf449c2c57"
   }
  }
 },
 "nbformat": 4,
 "nbformat_minor": 5
}
