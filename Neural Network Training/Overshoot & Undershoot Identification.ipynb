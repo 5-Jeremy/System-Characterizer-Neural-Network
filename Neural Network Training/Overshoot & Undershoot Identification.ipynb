{
 "cells": [
  {
   "cell_type": "code",
   "execution_count": 1,
   "id": "cb35176e",
   "metadata": {},
   "outputs": [],
   "source": [
    "import pandas as pd\n",
    "import tensorflow as tf\n",
    "from tensorflow import keras\n",
    "import numpy as np\n",
    "import sklearn as skl\n",
    "from sklearn import preprocessing\n",
    "from sklearn import model_selection\n",
    "import matplotlib.pyplot as plt\n",
    "\n",
    "from training_functions import summarize_data, get_encoded_labels_overshoot_undershoot_classification"
   ]
  },
  {
   "cell_type": "code",
   "execution_count": 2,
   "id": "e9b2aa9c",
   "metadata": {},
   "outputs": [
    {
     "name": "stdout",
     "output_type": "stream",
     "text": [
      "         D1         N2         N1   RiseTime  TransientTime  SettlingTime  \\\n",
      "0 -7.792284   5.479346   6.716621   1.387282       2.590738      2.610738   \n",
      "1 -8.421525   5.120316   0.353875  31.358374      56.150816     56.150816   \n",
      "2 -7.190644   7.520692  12.880123   0.977723       1.865514      1.892572   \n",
      "3 -0.999792   3.934565   3.444088   1.817707       3.844851      4.141904   \n",
      "4  3.242414  14.304431  50.128112   0.090039       0.798297      0.798297   \n",
      "\n",
      "   SettlingMin  SettlingMax  Overshoot  Undershoot       Peak    PeakTime  \n",
      "0    -1.160146    -1.046628   0.000000    3.758780   1.160146    7.437680  \n",
      "1   -23.781914   -21.474148   0.000000   -0.000000  23.781914  104.497226  \n",
      "2    -0.557838    -0.502913   0.000000    7.321072   0.557838    3.125033  \n",
      "3    -0.289938    -0.261309   0.000000   47.523859   0.289938    6.270974  \n",
      "4     0.058454     0.076270  17.914613   -0.000000   0.076270    0.262541  \n",
      "Models with overshoot: 1613/16.13%\n",
      "Models with undershoot: 4846/48.46%\n",
      "Models with neither: 3541/35.410000000000004%\n"
     ]
    }
   ],
   "source": [
    "# Load data\n",
    "dataset = pd.read_csv(\"../Datasets/Three Coefficient System Data.csv\")\n",
    "print(dataset.head())\n",
    "summarize_data(dataset)"
   ]
  },
  {
   "cell_type": "code",
   "execution_count": 3,
   "id": "86d886b1",
   "metadata": {
    "scrolled": true
   },
   "outputs": [
    {
     "name": "stdout",
     "output_type": "stream",
     "text": [
      "[[0. 0. 1.]\n",
      " [1. 0. 0.]\n",
      " [0. 0. 1.]\n",
      " [0. 0. 1.]\n",
      " [0. 1. 0.]\n",
      " [1. 0. 0.]\n",
      " [0. 0. 1.]\n",
      " [0. 0. 1.]\n",
      " [0. 1. 0.]\n",
      " [1. 0. 0.]]\n"
     ]
    }
   ],
   "source": [
    "# Determine the appropriate label for each entry using one-hot encoding\n",
    "# [0 0 1] for undershoot, [0 1 0] for overshoot, [1 0 0] for neither\n",
    "labels = get_encoded_labels_overshoot_undershoot_classification(dataset)\n",
    "print(labels[0:10])"
   ]
  },
  {
   "cell_type": "code",
   "execution_count": 5,
   "id": "4b6e7227",
   "metadata": {},
   "outputs": [
    {
     "name": "stdout",
     "output_type": "stream",
     "text": [
      "[[-1.34584063 -1.11996452 -0.83356975]\n",
      " [-1.45478893 -1.20839967 -1.12254131]\n",
      " [-1.24167124 -0.61714634 -0.55364703]\n",
      " [-0.16977259 -1.50047024 -0.98219569]\n",
      " [ 0.56473283  1.05380377  1.13801428]\n",
      " [ 0.23490035 -1.96774514 -1.12332367]\n",
      " [-0.61079546 -0.40000369 -0.67081313]\n",
      " [-0.14604934 -1.02966069 -0.93830241]\n",
      " [ 0.41559378  1.06575274  1.19882136]\n",
      " [ 0.49370097  0.42974474 -0.2502778 ]]\n",
      "(10000, 3)\n"
     ]
    }
   ],
   "source": [
    "# Convert to numpy array\n",
    "data_array = dataset.to_numpy()\n",
    "\n",
    "# Separate the coefficients, which form the inputs to the neural network, from the rest of the data\n",
    "# The coefficients are the first columns in the CSV file\n",
    "coefficients = data_array[:,0:3]\n",
    "# Use StandardScaler to remove the mean and scale to unit variance\n",
    "scaler = preprocessing.StandardScaler().fit(coefficients)\n",
    "scaled_coefficients = scaler.transform(coefficients)\n",
    "\n",
    "print(scaled_coefficients[0:10,:])\n",
    "print(scaled_coefficients.shape)"
   ]
  },
  {
   "cell_type": "code",
   "execution_count": 13,
   "id": "cd7884db",
   "metadata": {},
   "outputs": [
    {
     "name": "stdout",
     "output_type": "stream",
     "text": [
      "(9000, 3) (9000, 3) (1000, 3) (1000, 3)\n"
     ]
    }
   ],
   "source": [
    "# Reserve 10% of the data as test data, and use the rest as training data\n",
    "train_inputs,test_inputs,train_labels,test_labels = model_selection.train_test_split(scaled_coefficients, labels, test_size=0.10)\n",
    "print(train_inputs.shape, train_labels.shape,test_inputs.shape, test_labels.shape)"
   ]
  },
  {
   "cell_type": "code",
   "execution_count": 14,
   "id": "2698cd39",
   "metadata": {},
   "outputs": [
    {
     "name": "stdout",
     "output_type": "stream",
     "text": [
      "Model: \"sequential\"\n",
      "_________________________________________________________________\n",
      " Layer (type)                Output Shape              Param #   \n",
      "=================================================================\n",
      " layer_1 (Dense)             (None, 128)               512       \n",
      "                                                                 \n",
      " layer_2 (Dense)             (None, 128)               16512     \n",
      "                                                                 \n",
      " output_layer (Dense)        (None, 3)                 387       \n",
      "                                                                 \n",
      "=================================================================\n",
      "Total params: 17,411\n",
      "Trainable params: 17,411\n",
      "Non-trainable params: 0\n",
      "_________________________________________________________________\n"
     ]
    }
   ],
   "source": [
    "# Use a sequential model for classification\n",
    "model = tf.keras.models.Sequential()\n",
    "# First hidden layer: 128 nodes, RELU activation function\n",
    "model.add(keras.layers.Dense(128,\n",
    "                             input_shape=(3,),\n",
    "                              name='layer_1',\n",
    "                              activation='relu'))\n",
    "# Second hidden layer: 128 nodes, RELU activation function\n",
    "model.add(keras.layers.Dense(128,\n",
    "                              name='layer_2',\n",
    "                              activation='relu'))\n",
    "# Output layer: softmax activation function\n",
    "model.add(keras.layers.Dense(3,\n",
    "                             name='output_layer',\n",
    "                             activation='softmax'))\n",
    "\n",
    "model.compile(loss='categorical_crossentropy',\n",
    "              metrics=['accuracy'])\n",
    "model.summary()"
   ]
  },
  {
   "cell_type": "code",
   "execution_count": 15,
   "id": "0777cc7e",
   "metadata": {},
   "outputs": [
    {
     "name": "stdout",
     "output_type": "stream",
     "text": [
      "Epoch 1/10\n",
      "450/450 [==============================] - 1s 1ms/step - loss: 0.2373 - accuracy: 0.9251 - val_loss: 0.1404 - val_accuracy: 0.9611\n",
      "Epoch 2/10\n",
      "450/450 [==============================] - 0s 764us/step - loss: 0.1113 - accuracy: 0.9611 - val_loss: 0.1017 - val_accuracy: 0.9617\n",
      "Epoch 3/10\n",
      "450/450 [==============================] - 0s 773us/step - loss: 0.0940 - accuracy: 0.9646 - val_loss: 0.0771 - val_accuracy: 0.9672\n",
      "Epoch 4/10\n",
      "450/450 [==============================] - 0s 751us/step - loss: 0.0817 - accuracy: 0.9681 - val_loss: 0.0815 - val_accuracy: 0.9678\n",
      "Epoch 5/10\n",
      "450/450 [==============================] - 0s 741us/step - loss: 0.0790 - accuracy: 0.9685 - val_loss: 0.0983 - val_accuracy: 0.9517\n",
      "Epoch 6/10\n",
      "450/450 [==============================] - 0s 765us/step - loss: 0.0754 - accuracy: 0.9697 - val_loss: 0.0654 - val_accuracy: 0.9711\n",
      "Epoch 7/10\n",
      "450/450 [==============================] - 0s 783us/step - loss: 0.0737 - accuracy: 0.9697 - val_loss: 0.0728 - val_accuracy: 0.9672\n",
      "Epoch 8/10\n",
      "450/450 [==============================] - 0s 749us/step - loss: 0.0727 - accuracy: 0.9718 - val_loss: 0.0664 - val_accuracy: 0.9750\n",
      "Epoch 9/10\n",
      "450/450 [==============================] - 0s 754us/step - loss: 0.0677 - accuracy: 0.9722 - val_loss: 0.0807 - val_accuracy: 0.9661\n",
      "Epoch 10/10\n",
      "450/450 [==============================] - 0s 757us/step - loss: 0.0686 - accuracy: 0.9712 - val_loss: 0.0593 - val_accuracy: 0.9761\n"
     ]
    },
    {
     "data": {
      "image/png": "[encoded data removed]",
      "text/plain": [
       "<Figure size 800x500 with 1 Axes>"
      ]
     },
     "metadata": {},
     "output_type": "display_data"
    },
    {
     "name": "stdout",
     "output_type": "stream",
     "text": [
      "\n",
      "Evaluation against Test Dataset :\n",
      "------------------------------------\n",
      "32/32 [==============================] - 0s 802us/step - loss: 0.0620 - accuracy: 0.9730\n"
     ]
    },
    {
     "data": {
      "text/plain": [
       "[0.06202654540538788, 0.9729999899864197]"
      ]
     },
     "execution_count": 15,
     "metadata": {},
     "output_type": "execute_result"
    }
   ],
   "source": [
    "# Perform training\n",
    "\n",
    "history=model.fit(train_inputs,\n",
    "          train_labels,\n",
    "          batch_size = 16,\n",
    "          epochs = 10,\n",
    "          verbose = 1,\n",
    "          validation_split = 0.2)\n",
    "\n",
    "# Code borrowed from Kumaran Ponnambalam's LinkedIn Learning course\n",
    "# Check the accuracy after each epoch\n",
    "pd.DataFrame(history.history)[\"accuracy\"].plot(figsize=(8, 5))\n",
    "plt.title(\"Accuracy improvements with Epoch\")\n",
    "plt.show()\n",
    "\n",
    "#Evaluate the model against the test dataset and print results\n",
    "print(\"\\nEvaluation against Test Dataset :\\n------------------------------------\")\n",
    "model.evaluate(test_inputs, test_labels)"
   ]
  },
  {
   "cell_type": "code",
   "execution_count": 9,
   "id": "372a05cb",
   "metadata": {},
   "outputs": [
    {
     "name": "stderr",
     "output_type": "stream",
     "text": [
      "WARNING:absl:Found untraced functions such as _update_step_xla while saving (showing 1 of 1). These functions will not be directly callable after loading.\n"
     ]
    },
    {
     "name": "stdout",
     "output_type": "stream",
     "text": [
      "INFO:tensorflow:Assets written to: OUID_3C_First_Try\\assets\n"
     ]
    },
    {
     "name": "stderr",
     "output_type": "stream",
     "text": [
      "INFO:tensorflow:Assets written to: OUID_3C_First_Try\\assets\n"
     ]
    }
   ],
   "source": [
    "# Export model\n",
    "model.save(\"OUID_3C_First_Try\")"
   ]
  },
  {
   "cell_type": "code",
   "execution_count": 7,
   "id": "34ebf665",
   "metadata": {},
   "outputs": [
    {
     "name": "stdout",
     "output_type": "stream",
     "text": [
      "313/313 [==============================] - 0s 476us/step\n",
      "Raw Prediction Output (Probabilities) : [[8.2420738e-05 2.7645500e-11 9.9991763e-01]\n",
      " [3.7598263e-03 3.8760905e-13 9.9624014e-01]\n",
      " [6.6964183e-04 9.9933040e-01 5.3197750e-21]\n",
      " [3.1223283e-06 7.4206947e-16 9.9999690e-01]\n",
      " [5.2928639e-14 7.6530568e-18 1.0000000e+00]\n",
      " [1.0000000e+00 1.0744486e-08 0.0000000e+00]\n",
      " [2.9097079e-18 1.8422579e-16 1.0000000e+00]\n",
      " [9.9980122e-01 1.9875968e-04 0.0000000e+00]\n",
      " [4.5004290e-16 1.4542002e-12 1.0000000e+00]\n",
      " [7.2664148e-01 2.7335846e-01 1.2556844e-11]]\n"
     ]
    }
   ],
   "source": [
    "# For testing existing models on new data\n",
    "model = keras.models.load_model(\"OUID_3C_First_Try\")\n",
    "dataset = pd.read_csv(\"../Datasets/Three Coefficient System Data 2.csv\")\n",
    "labels = get_encoded_labels_overshoot_undershoot_classification(dataset)\n",
    "data_array = dataset.to_numpy()\n",
    "scaled_input = scaler.transform(data_array[:,0:3])\n",
    "raw_prediction = model.predict(scaled_input)\n",
    "print(\"Raw Prediction Output (Probabilities) :\" , raw_prediction[0:10])"
   ]
  },
  {
   "cell_type": "code",
   "execution_count": null,
   "id": "99f99018",
   "metadata": {},
   "outputs": [],
   "source": []
  }
 ],
 "metadata": {
  "kernelspec": {
   "display_name": "Python 3 (ipykernel)",
   "language": "python",
   "name": "python3"
  },
  "language_info": {
   "codemirror_mode": {
    "name": "ipython",
    "version": 3
   },
   "file_extension": ".py",
   "mimetype": "text/x-python",
   "name": "python",
   "nbconvert_exporter": "python",
   "pygments_lexer": "ipython3",
   "version": "3.8.15"
  }
 },
 "nbformat": 4,
 "nbformat_minor": 5
}
