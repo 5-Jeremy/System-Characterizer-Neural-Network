{
 "cells": [
  {
   "cell_type": "code",
   "execution_count": 1,
   "id": "cb35176e",
   "metadata": {},
   "outputs": [],
   "source": [
    "import pandas as pd\n",
    "import tensorflow as tf\n",
    "from tensorflow import keras\n",
    "import numpy as np\n",
    "import sklearn as skl\n",
    "from sklearn import preprocessing\n",
    "from sklearn import model_selection\n",
    "import matplotlib.pyplot as plt"
   ]
  },
  {
   "cell_type": "code",
   "execution_count": 2,
   "id": "11026eee",
   "metadata": {},
   "outputs": [
    {
     "name": "stdout",
     "output_type": "stream",
     "text": [
      "         D1         N2         N1   RiseTime  TransientTime  SettlingTime  \\\n",
      "0 -7.792284   5.479346   6.716621   1.387282       2.590738      2.610738   \n",
      "1 -8.421525   5.120316   0.353875  31.358374      56.150816     56.150816   \n",
      "2 -7.190644   7.520692  12.880123   0.977723       1.865514      1.892572   \n",
      "3 -0.999792   3.934565   3.444088   1.817707       3.844851      4.141904   \n",
      "4  3.242414  14.304431  50.128112   0.090039       0.798297      0.798297   \n",
      "\n",
      "   SettlingMin  SettlingMax  Overshoot  Undershoot       Peak    PeakTime  \n",
      "0    -1.160146    -1.046628   0.000000    3.758780   1.160146    7.437680  \n",
      "1   -23.781914   -21.474148   0.000000   -0.000000  23.781914  104.497226  \n",
      "2    -0.557838    -0.502913   0.000000    7.321072   0.557838    3.125033  \n",
      "3    -0.289938    -0.261309   0.000000   47.523859   0.289938    6.270974  \n",
      "4     0.058454     0.076270  17.914613   -0.000000   0.076270    0.262541  \n"
     ]
    }
   ],
   "source": [
    "# Load data\n",
    "raw_data = pd.read_csv(\"../Datasets/Three Coefficient System Data.csv\")\n",
    "print(raw_data.head())"
   ]
  },
  {
   "cell_type": "code",
   "execution_count": 3,
   "id": "86d886b1",
   "metadata": {
    "scrolled": true
   },
   "outputs": [
    {
     "name": "stdout",
     "output_type": "stream",
     "text": [
      "[-1.  0. -1. -1.  1.  0. -1. -1.  1.  0.]\n"
     ]
    }
   ],
   "source": [
    "# TODO: apply one-hot encoding here directly\n",
    "# Determine the appropriate label for each entry (-1 for undershoot, 1 for overshoot, 0 for neither)\n",
    "labels = np.empty(raw_data.shape[0])\n",
    "for i in range(raw_data.shape[0]):\n",
    "    if raw_data['Overshoot'][i] > 1e-5:\n",
    "        labels[i] = 1\n",
    "    elif raw_data['Undershoot'][i] > 1e-5:\n",
    "        labels[i] = -1\n",
    "    else:\n",
    "        labels[i] = 0\n",
    "\n",
    "print(labels[0:10])"
   ]
  },
  {
   "cell_type": "code",
   "execution_count": 4,
   "id": "b8c84a8a",
   "metadata": {},
   "outputs": [
    {
     "name": "stdout",
     "output_type": "stream",
     "text": [
      "[[-7.79228424  5.47934562  6.71662058]\n",
      " [-8.42152544  5.12031577  0.35387548]\n",
      " [-7.19064401  7.52069159 12.88012284]\n",
      " [-0.99979183  3.93456491  3.44408765]\n",
      " [ 3.24241381 14.30443065 50.12811171]\n",
      " [ 1.33743502  2.03751786  0.33664909]\n",
      " [-3.54696119  8.4022494  10.30029108]\n",
      " [-0.86277595  5.84596197  4.41055548]\n",
      " [ 2.3810471  14.3529412  51.46699745]\n",
      " [ 2.83216256 11.77086991 19.55988402]]\n",
      "(10000, 3)\n",
      "[[-1.34584063 -1.11996452 -0.83356975]\n",
      " [-1.45478893 -1.20839967 -1.12254131]\n",
      " [-1.24167124 -0.61714634 -0.55364703]\n",
      " [-0.16977259 -1.50047024 -0.98219569]\n",
      " [ 0.56473283  1.05380377  1.13801428]\n",
      " [ 0.23490035 -1.96774514 -1.12332367]\n",
      " [-0.61079546 -0.40000369 -0.67081313]\n",
      " [-0.14604934 -1.02966069 -0.93830241]\n",
      " [ 0.41559378  1.06575274  1.19882136]\n",
      " [ 0.49370097  0.42974474 -0.2502778 ]]\n",
      "(10000, 3)\n"
     ]
    }
   ],
   "source": [
    "# Convert to numpy array\n",
    "data_array = raw_data.to_numpy()\n",
    "\n",
    "# Separate the coefficients, which form the inputs to the neural network, from the rest of the data\n",
    "coefficients = data_array[:,0:3]\n",
    "print(coefficients[0:10,:])\n",
    "print(coefficients.shape)\n",
    "\n",
    "# Use StandardScaler to remove the mean and scale to unit variance\n",
    "scaler = preprocessing.StandardScaler().fit(coefficients)\n",
    "scaled_coefficients = scaler.transform(coefficients)\n",
    "print(scaled_coefficients[0:10,:])\n",
    "print(scaled_coefficients.shape)"
   ]
  },
  {
   "cell_type": "code",
   "execution_count": 5,
   "id": "32c9e1e2",
   "metadata": {},
   "outputs": [
    {
     "name": "stdout",
     "output_type": "stream",
     "text": [
      "[[0. 0. 1.]\n",
      " [1. 0. 0.]\n",
      " [0. 0. 1.]\n",
      " [0. 0. 1.]\n",
      " [0. 1. 0.]\n",
      " [1. 0. 0.]\n",
      " [0. 0. 1.]\n",
      " [0. 0. 1.]\n",
      " [0. 1. 0.]\n",
      " [1. 0. 0.]]\n",
      "(10000, 3)\n"
     ]
    }
   ],
   "source": [
    "# Use one-hot encoding on the labels\n",
    "enc_labels = keras.utils.to_categorical(labels,3)\n",
    "print(enc_labels[0:10])\n",
    "print(enc_labels.shape)"
   ]
  },
  {
   "cell_type": "code",
   "execution_count": 6,
   "id": "e87d13e6",
   "metadata": {},
   "outputs": [
    {
     "name": "stdout",
     "output_type": "stream",
     "text": [
      "(9000, 3) (9000, 3) (1000, 3) (1000, 3)\n"
     ]
    }
   ],
   "source": [
    "# Reserve 10% of the data as test data, and use the rest as training data\n",
    "train_inputs,test_inputs,train_labels,test_labels = model_selection.train_test_split(scaled_coefficients, enc_labels, test_size=0.10)\n",
    "print(train_inputs.shape, train_labels.shape,test_inputs.shape, test_labels.shape)"
   ]
  },
  {
   "cell_type": "code",
   "execution_count": 7,
   "id": "4b518d3d",
   "metadata": {},
   "outputs": [
    {
     "name": "stdout",
     "output_type": "stream",
     "text": [
      "Model: \"sequential\"\n",
      "_________________________________________________________________\n",
      " Layer (type)                Output Shape              Param #   \n",
      "=================================================================\n",
      " layer_1 (Dense)             (None, 128)               512       \n",
      "                                                                 \n",
      " layer_2 (Dense)             (None, 128)               16512     \n",
      "                                                                 \n",
      " output_layer (Dense)        (None, 3)                 387       \n",
      "                                                                 \n",
      "=================================================================\n",
      "Total params: 17,411\n",
      "Trainable params: 17,411\n",
      "Non-trainable params: 0\n",
      "_________________________________________________________________\n"
     ]
    }
   ],
   "source": [
    "# Use a sequential model for classification\n",
    "model = tf.keras.models.Sequential()\n",
    "# First hidden layer: 128 nodes, RELU activation function\n",
    "model.add(keras.layers.Dense(128,\n",
    "                             input_shape=(3,),\n",
    "                              name='layer_1',\n",
    "                              activation='relu'))\n",
    "# Second hidden layer: 128 nodes, RELU activation function\n",
    "model.add(keras.layers.Dense(128,\n",
    "                              name='layer_2',\n",
    "                              activation='relu'))\n",
    "# Output layer: softmax activation function\n",
    "model.add(keras.layers.Dense(3,\n",
    "                             name='output_layer',\n",
    "                             activation='softmax'))\n",
    "\n",
    "model.compile(loss='categorical_crossentropy',\n",
    "              metrics=['accuracy'])\n",
    "model.summary()"
   ]
  },
  {
   "cell_type": "code",
   "execution_count": 8,
   "id": "f5675870",
   "metadata": {},
   "outputs": [
    {
     "name": "stdout",
     "output_type": "stream",
     "text": [
      "Epoch 1/10\n",
      "450/450 [==============================] - 1s 990us/step - loss: 0.2512 - accuracy: 0.9186 - val_loss: 0.1277 - val_accuracy: 0.9567\n",
      "Epoch 2/10\n",
      "450/450 [==============================] - 0s 777us/step - loss: 0.1195 - accuracy: 0.9571 - val_loss: 0.0879 - val_accuracy: 0.9733\n",
      "Epoch 3/10\n",
      "450/450 [==============================] - 0s 730us/step - loss: 0.0974 - accuracy: 0.9642 - val_loss: 0.0724 - val_accuracy: 0.9694\n",
      "Epoch 4/10\n",
      "450/450 [==============================] - 0s 763us/step - loss: 0.0867 - accuracy: 0.9647 - val_loss: 0.0695 - val_accuracy: 0.9694\n",
      "Epoch 5/10\n",
      "450/450 [==============================] - 0s 705us/step - loss: 0.0809 - accuracy: 0.9665 - val_loss: 0.0625 - val_accuracy: 0.9711\n",
      "Epoch 6/10\n",
      "450/450 [==============================] - 0s 705us/step - loss: 0.0767 - accuracy: 0.9669 - val_loss: 0.0647 - val_accuracy: 0.9756\n",
      "Epoch 7/10\n",
      "450/450 [==============================] - 0s 742us/step - loss: 0.0743 - accuracy: 0.9696 - val_loss: 0.0590 - val_accuracy: 0.9811\n",
      "Epoch 8/10\n",
      "450/450 [==============================] - 0s 749us/step - loss: 0.0706 - accuracy: 0.9707 - val_loss: 0.0623 - val_accuracy: 0.9744\n",
      "Epoch 9/10\n",
      "450/450 [==============================] - 0s 714us/step - loss: 0.0683 - accuracy: 0.9717 - val_loss: 0.0511 - val_accuracy: 0.9789\n",
      "Epoch 10/10\n",
      "450/450 [==============================] - 0s 715us/step - loss: 0.0677 - accuracy: 0.9722 - val_loss: 0.0557 - val_accuracy: 0.9706\n"
     ]
    },
    {
     "data": {
      "image/png": "[encoded data removed]",
      "text/plain": [
       "<Figure size 800x500 with 1 Axes>"
      ]
     },
     "metadata": {},
     "output_type": "display_data"
    },
    {
     "name": "stdout",
     "output_type": "stream",
     "text": [
      "\n",
      "Evaluation against Test Dataset :\n",
      "------------------------------------\n",
      "32/32 [==============================] - 0s 859us/step - loss: 0.0629 - accuracy: 0.9730\n"
     ]
    },
    {
     "data": {
      "text/plain": [
       "[0.06294583529233932, 0.9729999899864197]"
      ]
     },
     "execution_count": 8,
     "metadata": {},
     "output_type": "execute_result"
    }
   ],
   "source": [
    "# Perform training\n",
    "\n",
    "history=model.fit(train_inputs,\n",
    "          train_labels,\n",
    "          batch_size = 16,\n",
    "          epochs = 10,\n",
    "          verbose = 1,\n",
    "          validation_split = 0.2)\n",
    "\n",
    "# Code borrowed from Kumaran Ponnambalam's LinkedIn Learning course\n",
    "# Check the accuracy after each epoch\n",
    "pd.DataFrame(history.history)[\"accuracy\"].plot(figsize=(8, 5))\n",
    "plt.title(\"Accuracy improvements with Epoch\")\n",
    "plt.show()\n",
    "\n",
    "#Evaluate the model against the test dataset and print results\n",
    "print(\"\\nEvaluation against Test Dataset :\\n------------------------------------\")\n",
    "model.evaluate(test_inputs, test_labels)"
   ]
  },
  {
   "cell_type": "code",
   "execution_count": 9,
   "id": "fbc7e154",
   "metadata": {},
   "outputs": [
    {
     "name": "stderr",
     "output_type": "stream",
     "text": [
      "WARNING:absl:Found untraced functions such as _update_step_xla while saving (showing 1 of 1). These functions will not be directly callable after loading.\n"
     ]
    },
    {
     "name": "stdout",
     "output_type": "stream",
     "text": [
      "INFO:tensorflow:Assets written to: OUID_3C_First_Try\\assets\n"
     ]
    },
    {
     "name": "stderr",
     "output_type": "stream",
     "text": [
      "INFO:tensorflow:Assets written to: OUID_3C_First_Try\\assets\n"
     ]
    }
   ],
   "source": [
    "# Export model\n",
    "model.save(\"OUID_3C_First_Try\")"
   ]
  },
  {
   "cell_type": "code",
   "execution_count": null,
   "id": "d4342741",
   "metadata": {},
   "outputs": [],
   "source": []
  }
 ],
 "metadata": {
  "kernelspec": {
   "display_name": "Python 3 (ipykernel)",
   "language": "python",
   "name": "python3"
  },
  "language_info": {
   "codemirror_mode": {
    "name": "ipython",
    "version": 3
   },
   "file_extension": ".py",
   "mimetype": "text/x-python",
   "name": "python",
   "nbconvert_exporter": "python",
   "pygments_lexer": "ipython3",
   "version": "3.8.15"
  }
 },
 "nbformat": 4,
 "nbformat_minor": 5
}
