{
 "cells": [
  {
   "cell_type": "code",
   "execution_count": 1,
   "id": "cb35176e",
   "metadata": {},
   "outputs": [],
   "source": [
    "import pandas as pd\n",
    "import tensorflow as tf\n",
    "from tensorflow import keras\n",
    "import numpy as np\n",
    "import sklearn as skl\n",
    "from sklearn import preprocessing\n",
    "import sklearn.model_selection\n"
   ]
  },
  {
   "cell_type": "code",
   "execution_count": 2,
   "id": "960262fe",
   "metadata": {},
   "outputs": [
    {
     "name": "stdout",
     "output_type": "stream",
     "text": [
      "         D1         N2         N1   RiseTime  TransientTime  SettlingTime  \\\n",
      "0 -7.792284   5.479346   6.716621   1.387282       2.590738      2.610738   \n",
      "1 -8.421525   5.120316   0.353875  31.358374      56.150816     56.150816   \n",
      "2 -7.190644   7.520692  12.880123   0.977723       1.865514      1.892572   \n",
      "3 -0.999792   3.934565   3.444088   1.817707       3.844851      4.141904   \n",
      "4  3.242414  14.304431  50.128112   0.090039       0.798297      0.798297   \n",
      "\n",
      "   SettlingMin  SettlingMax  Overshoot  Undershoot       Peak    PeakTime  \n",
      "0    -1.160146    -1.046628   0.000000    3.758780   1.160146    7.437680  \n",
      "1   -23.781914   -21.474148   0.000000   -0.000000  23.781914  104.497226  \n",
      "2    -0.557838    -0.502913   0.000000    7.321072   0.557838    3.125033  \n",
      "3    -0.289938    -0.261309   0.000000   47.523859   0.289938    6.270974  \n",
      "4     0.058454     0.076270  17.914613   -0.000000   0.076270    0.262541  \n"
     ]
    }
   ],
   "source": [
    "# Load data\n",
    "raw_data = pd.read_csv(\"../Datasets/Three Coefficient System Data.csv\")\n",
    "print(raw_data.head())"
   ]
  },
  {
   "cell_type": "code",
   "execution_count": 10,
   "id": "86d886b1",
   "metadata": {
    "scrolled": true
   },
   "outputs": [
    {
     "name": "stdout",
     "output_type": "stream",
     "text": [
      "0.0\n",
      "0.0\n",
      "0.0\n",
      "0.0\n",
      "17.9146134642133\n",
      "0.0\n",
      "0.0\n",
      "0.0\n",
      "45.0213014151219\n",
      "0.0\n",
      "[-1.  0. -1. -1.  1.  0. -1. -1.  1.  0.]\n"
     ]
    }
   ],
   "source": [
    "# Determine the appropriate label for each entry (-1 for undershoot, 1 for overshoot, 0 for neither)\n",
    "labels = np.empty(raw_data.shape[1])\n",
    "#for i in range(raw_data.shape[1]):\n",
    "for i in range(10):\n",
    "    if raw_data['Overshoot'][i] > 1e-5:\n",
    "        labels[i] = 1\n",
    "    elif raw_data['Undershoot'][i] > 1e-5:\n",
    "        labels[i] = -1\n",
    "    else:\n",
    "        labels[i] = 0\n",
    "\n",
    "print(labels[0:10])"
   ]
  },
  {
   "cell_type": "code",
   "execution_count": null,
   "id": "a15cca1e",
   "metadata": {},
   "outputs": [],
   "source": []
  },
  {
   "cell_type": "code",
   "execution_count": null,
   "id": "41b62596",
   "metadata": {},
   "outputs": [],
   "source": []
  }
 ],
 "metadata": {
  "kernelspec": {
   "display_name": "Python 3 (ipykernel)",
   "language": "python",
   "name": "python3"
  },
  "language_info": {
   "codemirror_mode": {
    "name": "ipython",
    "version": 3
   },
   "file_extension": ".py",
   "mimetype": "text/x-python",
   "name": "python",
   "nbconvert_exporter": "python",
   "pygments_lexer": "ipython3",
   "version": "3.8.15"
  }
 },
 "nbformat": 4,
 "nbformat_minor": 5
}
