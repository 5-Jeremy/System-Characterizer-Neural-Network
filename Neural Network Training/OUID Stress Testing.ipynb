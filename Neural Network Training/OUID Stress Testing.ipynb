{
 "cells": [
  {
   "cell_type": "code",
   "execution_count": 1,
   "id": "8814080d",
   "metadata": {},
   "outputs": [],
   "source": [
    "import pandas as pd\n",
    "from tensorflow import keras\n",
    "import numpy as np\n",
    "from sklearn import preprocessing\n",
    "from sklearn import model_selection\n",
    "from pickle import load\n",
    "\n",
    "from training_functions import summarize_data, get_encoded_labels_overshoot_undershoot_classification"
   ]
  },
  {
   "cell_type": "code",
   "execution_count": 2,
   "id": "e1d81ee7",
   "metadata": {},
   "outputs": [],
   "source": [
    "# Load the existing model\n",
    "# For testing existing models on new data\n",
    "model = keras.models.load_model(\"../Finished Neural Network Models/OUID_3C_Optimized/OUID_3C_Optimized\")\n",
    "scaler = load(open('../Finished Neural Network Models/OUID_3C_Optimized/scaler.pkl','rb'))"
   ]
  },
  {
   "cell_type": "code",
   "execution_count": 3,
   "id": "2d93517a",
   "metadata": {},
   "outputs": [
    {
     "name": "stdout",
     "output_type": "stream",
     "text": [
      "3125/3125 [==============================] - 2s 673us/step\n",
      "Number of classification errors: 35920\n",
      "Accuracy: 0.6408\n",
      "[[19825. 12248.  1261.]\n",
      " [  170. 11264. 21898.]\n",
      " [  175.   168. 32991.]]\n"
     ]
    }
   ],
   "source": [
    "# Training was performed on models for which the magnitude of the zeros and poles were no greater than 10\n",
    "# Test the models on a set of data for which the magnitude of the zeros and poles can be up to 100 to see\n",
    "# how the perfomance is affected\n",
    "dataset = pd.read_csv(\"../Datasets/Three Coefficient 2nd Order/Larger Value Dataset 1.csv\")\n",
    "labels = get_encoded_labels_overshoot_undershoot_classification(dataset)\n",
    "data_array = dataset.to_numpy()\n",
    "scaled_input = scaler.transform(data_array[:,0:3])\n",
    "raw_predictions = model.predict(scaled_input)\n",
    "predictions = np.argmax(raw_predictions,1)\n",
    "actual = np.argmax(labels,1)\n",
    "# Analysis of the performance of the model\n",
    "incorrect_indices = (predictions - actual).nonzero()\n",
    "num_incorrect = incorrect_indices[0].shape[0]\n",
    "print(\"Number of classification errors: \" + str(num_incorrect))\n",
    "print(\"Accuracy: \" + str((dataset.shape[0] - num_incorrect)/dataset.shape[0]))\n",
    "# Generate confusion matrix; rows correspond to actual label and columns correspond to predicted label\n",
    "confusion_matrix = np.zeros((3,3))\n",
    "for i in range(dataset.shape[0]):\n",
    "    if actual[i] == 0 and predictions[i] == 0:\n",
    "        confusion_matrix[0,0] = confusion_matrix[0,0] + 1\n",
    "    elif actual[i] == 1 and predictions[i] == 0:\n",
    "        confusion_matrix[1,0] = confusion_matrix[1,0] + 1\n",
    "    elif actual[i] == 2 and predictions[i] == 0:\n",
    "        confusion_matrix[2,0] = confusion_matrix[2,0] + 1\n",
    "    elif actual[i] == 0 and predictions[i] == 1:\n",
    "        confusion_matrix[0,1] = confusion_matrix[0,1] + 1\n",
    "    elif actual[i] == 1 and predictions[i] == 1:\n",
    "        confusion_matrix[1,1] = confusion_matrix[1,1] + 1\n",
    "    elif actual[i] == 2 and predictions[i] == 1:\n",
    "        confusion_matrix[2,1] = confusion_matrix[2,1] + 1\n",
    "    elif actual[i] == 0 and predictions[i] == 2:\n",
    "        confusion_matrix[0,2] = confusion_matrix[0,2] + 1\n",
    "    elif actual[i] == 1 and predictions[i] == 2:\n",
    "        confusion_matrix[1,2] = confusion_matrix[1,2] + 1\n",
    "    elif actual[i] == 2 and predictions[i] == 2:\n",
    "        confusion_matrix[2,2] = confusion_matrix[2,2] + 1\n",
    "print(confusion_matrix)"
   ]
  },
  {
   "attachments": {},
   "cell_type": "markdown",
   "id": "152a25f0",
   "metadata": {},
   "source": [
    "The accuracy is nearly reduced to 50% when the magnitude of the poles/zeros is allowed to be 10 times larger, so clearly the neural network classifier cannot be applied to that data without being retrained."
   ]
  }
 ],
 "metadata": {
  "kernelspec": {
   "display_name": "deeplearning",
   "language": "python",
   "name": "python3"
  },
  "language_info": {
   "codemirror_mode": {
    "name": "ipython",
    "version": 3
   },
   "file_extension": ".py",
   "mimetype": "text/x-python",
   "name": "python",
   "nbconvert_exporter": "python",
   "pygments_lexer": "ipython3",
   "version": "3.8.15"
  },
  "vscode": {
   "interpreter": {
    "hash": "a64d606a253e2d1816fece95c0230ff125080c831115324729bcd0cf449c2c57"
   }
  }
 },
 "nbformat": 4,
 "nbformat_minor": 5
}
